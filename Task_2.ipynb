{
 "cells": [
  {
   "cell_type": "code",
   "execution_count": null,
   "id": "916f597a-e437-441a-8e73-ce9bf83f29e3",
   "metadata": {},
   "outputs": [
    {
     "name": "stdout",
     "output_type": "stream",
     "text": [
      "Welcome to the number guessing game!\n",
      "I'm thinking of a number between 1 and 100.\n"
     ]
    }
   ],
   "source": [
    "import random\n",
    "\n",
    "def guessing_game():\n",
    "    # Set the secret number\n",
    "    secret_number = random.randint(1, 100)\n",
    "\n",
    "    # Initialize the number of attempts\n",
    "    attempts = 0\n",
    "\n",
    "    print(\"Welcome to the number guessing game!\")\n",
    "    print(\"I'm thinking of a number between 1 and 100.\")\n",
    "\n",
    "    while True:\n",
    "        # Ask the user for their guess\n",
    "        user_guess = int(input(\"Enter your guess: \"))\n",
    "\n",
    "        # Increment the number of attempts\n",
    "        attempts += 1\n",
    "\n",
    "        # Check if the user's guess is correct\n",
    "        if user_guess == secret_number:\n",
    "            print(f\" Congratulations! You guessed the number in {attempts} attempts.\")\n",
    "            break\n",
    "\n",
    "        # Provide a hint if the user's guess is too high or too low\n",
    "        elif user_guess > secret_number:\n",
    "            print(\"Your guess is too high. Try again!\")\n",
    "        else:\n",
    "            print(\"Your guess is too low. Try again!\")\n",
    "\n",
    "if __name__ == \"__main__\":\n",
    "    guessing_game()"
   ]
  },
  {
   "cell_type": "code",
   "execution_count": null,
   "id": "c2d9e1c0-77e5-4d14-a683-78e2b0015dbc",
   "metadata": {},
   "outputs": [],
   "source": []
  }
 ],
 "metadata": {
  "kernelspec": {
   "display_name": "Python 3 (ipykernel)",
   "language": "python",
   "name": "python3"
  },
  "language_info": {
   "codemirror_mode": {
    "name": "ipython",
    "version": 3
   },
   "file_extension": ".py",
   "mimetype": "text/x-python",
   "name": "python",
   "nbconvert_exporter": "python",
   "pygments_lexer": "ipython3",
   "version": "3.12.3"
  }
 },
 "nbformat": 4,
 "nbformat_minor": 5
}
